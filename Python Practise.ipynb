{
 "cells": [
  {
   "cell_type": "code",
   "execution_count": 1,
   "id": "ff14b437",
   "metadata": {},
   "outputs": [],
   "source": [
    "#1. In the below elements which of them are values or an expression? eg:- values can be integer or string and expressions will be mathematical operators.\n",
    "#*   expression\n",
    "#'hello'  value\n",
    "#-87.8 value\n",
    "#- expression\n",
    "#/ expression\n",
    "#+ expression\n",
    "#6 value\n",
    "\n"
   ]
  },
  {
   "cell_type": "code",
   "execution_count": 2,
   "id": "52a5ce5a",
   "metadata": {},
   "outputs": [
    {
     "ename": "ModuleNotFoundError",
     "evalue": "No module named 'areallyourpetsnamederic'",
     "output_type": "error",
     "traceback": [
      "\u001b[1;31m---------------------------------------------------------------------------\u001b[0m",
      "\u001b[1;31mModuleNotFoundError\u001b[0m                       Traceback (most recent call last)",
      "\u001b[1;32m~\\AppData\\Local\\Temp\\ipykernel_17088\\51184242.py\u001b[0m in \u001b[0;36m<module>\u001b[1;34m\u001b[0m\n\u001b[1;32m----> 1\u001b[1;33m \u001b[1;32mimport\u001b[0m \u001b[0mareallyourpetsnamederic\u001b[0m\u001b[1;33m\u001b[0m\u001b[1;33m\u001b[0m\u001b[0m\n\u001b[0m",
      "\u001b[1;31mModuleNotFoundError\u001b[0m: No module named 'areallyourpetsnamederic'"
     ]
    }
   ],
   "source": [
    "import areallyourpetsnamederic"
   ]
  },
  {
   "cell_type": "code",
   "execution_count": null,
   "id": "b038e89d",
   "metadata": {},
   "outputs": [],
   "source": []
  },
  {
   "cell_type": "code",
   "execution_count": 53,
   "id": "8db5d74d",
   "metadata": {},
   "outputs": [
    {
     "data": {
      "text/plain": [
       "'K'"
      ]
     },
     "execution_count": 53,
     "metadata": {},
     "output_type": "execute_result"
    }
   ],
   "source": [
    "#Mutability means changeable or which can be changed\n",
    "#String methods - Concatenation\n",
    "k = \"kezia\" \n",
    "k[0].upper()"
   ]
  },
  {
   "cell_type": "code",
   "execution_count": 5,
   "id": "2eaa4df6",
   "metadata": {},
   "outputs": [
    {
     "data": {
      "text/plain": [
       "'Fezia'"
      ]
     },
     "execution_count": 5,
     "metadata": {},
     "output_type": "execute_result"
    }
   ],
   "source": [
    "\"F\" + k[1:]"
   ]
  },
  {
   "cell_type": "code",
   "execution_count": 36,
   "id": "556cd931",
   "metadata": {},
   "outputs": [],
   "source": [
    "k = \"F\" + k[1:] +\" \"+ \"Mweresa\""
   ]
  },
  {
   "cell_type": "code",
   "execution_count": 37,
   "id": "2e196e72",
   "metadata": {},
   "outputs": [
    {
     "data": {
      "text/plain": [
       "'Fggeziamweresa mweresa'"
      ]
     },
     "execution_count": 37,
     "metadata": {},
     "output_type": "execute_result"
    }
   ],
   "source": [
    "k.upper()\n",
    "k.lower()\n",
    "k.title()\n",
    "k.capitalize()\n",
    "#\"*\"join(k)"
   ]
  },
  {
   "cell_type": "code",
   "execution_count": 31,
   "id": "2dd029fa",
   "metadata": {},
   "outputs": [
    {
     "data": {
      "text/plain": [
       "'gggezia'"
      ]
     },
     "execution_count": 31,
     "metadata": {},
     "output_type": "execute_result"
    }
   ],
   "source": [
    "k.replace(\"F\",\"ggg\")"
   ]
  },
  {
   "cell_type": "code",
   "execution_count": 23,
   "id": "f23af2a4",
   "metadata": {},
   "outputs": [
    {
     "data": {
      "text/plain": [
       "'gggeyia'"
      ]
     },
     "execution_count": 23,
     "metadata": {},
     "output_type": "execute_result"
    }
   ],
   "source": [
    "k.replace(\"z\",\"y\")"
   ]
  },
  {
   "cell_type": "code",
   "execution_count": 24,
   "id": "4cc29c6b",
   "metadata": {},
   "outputs": [
    {
     "data": {
      "text/plain": [
       "3"
      ]
     },
     "execution_count": 24,
     "metadata": {},
     "output_type": "execute_result"
    }
   ],
   "source": [
    "k = k.replace(\"F\",\"ggg\")\n",
    "k.count(\"g\")"
   ]
  },
  {
   "cell_type": "code",
   "execution_count": 11,
   "id": "cd6ee9a8",
   "metadata": {},
   "outputs": [
    {
     "data": {
      "text/plain": [
       "22"
      ]
     },
     "execution_count": 11,
     "metadata": {},
     "output_type": "execute_result"
    }
   ],
   "source": [
    "bacon"
   ]
  },
  {
   "cell_type": "code",
   "execution_count": 12,
   "id": "1831015b",
   "metadata": {},
   "outputs": [
    {
     "data": {
      "text/plain": [
       "int"
      ]
     },
     "execution_count": 12,
     "metadata": {},
     "output_type": "execute_result"
    }
   ],
   "source": [
    "type(bacon)"
   ]
  },
  {
   "cell_type": "code",
   "execution_count": 13,
   "id": "b008047a",
   "metadata": {},
   "outputs": [
    {
     "data": {
      "text/plain": [
       "23"
      ]
     },
     "execution_count": 13,
     "metadata": {},
     "output_type": "execute_result"
    }
   ],
   "source": [
    "bacon + 1"
   ]
  },
  {
   "cell_type": "code",
   "execution_count": 14,
   "id": "67b27e7b",
   "metadata": {},
   "outputs": [
    {
     "data": {
      "text/plain": [
       "23"
      ]
     },
     "execution_count": 14,
     "metadata": {},
     "output_type": "execute_result"
    }
   ],
   "source": [
    "bacon = 22 \n",
    "bacon + 1\n"
   ]
  },
  {
   "cell_type": "code",
   "execution_count": 15,
   "id": "7279868f",
   "metadata": {},
   "outputs": [
    {
     "data": {
      "text/plain": [
       "22"
      ]
     },
     "execution_count": 15,
     "metadata": {},
     "output_type": "execute_result"
    }
   ],
   "source": [
    "bacon"
   ]
  },
  {
   "cell_type": "code",
   "execution_count": 16,
   "id": "7fb820a9",
   "metadata": {},
   "outputs": [
    {
     "data": {
      "text/plain": [
       "'spamspamspam'"
      ]
     },
     "execution_count": 16,
     "metadata": {},
     "output_type": "execute_result"
    }
   ],
   "source": [
    "'spam' + 'spamspam'"
   ]
  },
  {
   "cell_type": "code",
   "execution_count": 17,
   "id": "a7f81395",
   "metadata": {},
   "outputs": [
    {
     "data": {
      "text/plain": [
       "'spamspamspam'"
      ]
     },
     "execution_count": 17,
     "metadata": {},
     "output_type": "execute_result"
    }
   ],
   "source": [
    "'spam' * 3"
   ]
  },
  {
   "cell_type": "code",
   "execution_count": 19,
   "id": "ac4f43f1",
   "metadata": {},
   "outputs": [
    {
     "data": {
      "text/plain": [
       "'I have eaten 99 burritos.'"
      ]
     },
     "execution_count": 19,
     "metadata": {},
     "output_type": "execute_result"
    }
   ],
   "source": [
    "'I have eaten ' + \"99\" + ' burritos.'"
   ]
  },
  {
   "cell_type": "code",
   "execution_count": 49,
   "id": "f246010c",
   "metadata": {},
   "outputs": [],
   "source": [
    "name = \"Kezia_Gwasima_Mweresa\"\n",
    "firstname,middlename,lastname = name.split(\"_\")"
   ]
  },
  {
   "cell_type": "code",
   "execution_count": 46,
   "id": "90f22ec0",
   "metadata": {},
   "outputs": [
    {
     "data": {
      "text/plain": [
       "'Kezia344'"
      ]
     },
     "execution_count": 46,
     "metadata": {},
     "output_type": "execute_result"
    }
   ],
   "source": [
    "firstname"
   ]
  },
  {
   "cell_type": "code",
   "execution_count": 43,
   "id": "74f7eb85",
   "metadata": {},
   "outputs": [
    {
     "data": {
      "text/plain": [
       "False"
      ]
     },
     "execution_count": 43,
     "metadata": {},
     "output_type": "execute_result"
    }
   ],
   "source": [
    "firstname.islower()"
   ]
  },
  {
   "cell_type": "code",
   "execution_count": 44,
   "id": "a30e08db",
   "metadata": {},
   "outputs": [
    {
     "data": {
      "text/plain": [
       "False"
      ]
     },
     "execution_count": 44,
     "metadata": {},
     "output_type": "execute_result"
    }
   ],
   "source": [
    "firstname.isspace() # is there space"
   ]
  },
  {
   "cell_type": "code",
   "execution_count": 50,
   "id": "93a2e4bf",
   "metadata": {},
   "outputs": [
    {
     "data": {
      "text/plain": [
       "True"
      ]
     },
     "execution_count": 50,
     "metadata": {},
     "output_type": "execute_result"
    }
   ],
   "source": [
    "firstname.isalnum()# is it alpha or numeric"
   ]
  },
  {
   "cell_type": "code",
   "execution_count": 48,
   "id": "edef2fce",
   "metadata": {},
   "outputs": [
    {
     "data": {
      "text/plain": [
       "False"
      ]
     },
     "execution_count": 48,
     "metadata": {},
     "output_type": "execute_result"
    }
   ],
   "source": [
    "firstname.isdigit()# is there digit"
   ]
  },
  {
   "cell_type": "code",
   "execution_count": 56,
   "id": "c9288ac7",
   "metadata": {},
   "outputs": [
    {
     "ename": "AttributeError",
     "evalue": "'float' object has no attribute 'isdecimal'",
     "output_type": "error",
     "traceback": [
      "\u001b[1;31m---------------------------------------------------------------------------\u001b[0m",
      "\u001b[1;31mAttributeError\u001b[0m                            Traceback (most recent call last)",
      "\u001b[1;32m~\\AppData\\Local\\Temp\\ipykernel_29332\\277630340.py\u001b[0m in \u001b[0;36m<module>\u001b[1;34m\u001b[0m\n\u001b[0;32m      1\u001b[0m \u001b[0my\u001b[0m \u001b[1;33m=\u001b[0m \u001b[1;36m5.0\u001b[0m\u001b[1;33m\u001b[0m\u001b[1;33m\u001b[0m\u001b[0m\n\u001b[1;32m----> 2\u001b[1;33m \u001b[0mprint\u001b[0m\u001b[1;33m(\u001b[0m\u001b[0my\u001b[0m\u001b[1;33m.\u001b[0m\u001b[0misdecimal\u001b[0m\u001b[1;33m(\u001b[0m\u001b[1;33m)\u001b[0m\u001b[1;33m)\u001b[0m\u001b[1;33m\u001b[0m\u001b[1;33m\u001b[0m\u001b[0m\n\u001b[0m",
      "\u001b[1;31mAttributeError\u001b[0m: 'float' object has no attribute 'isdecimal'"
     ]
    }
   ],
   "source": [
    "y = 5.0\n",
    "print(y.isdecimal())"
   ]
  },
  {
   "cell_type": "code",
   "execution_count": 1,
   "id": "344c5433",
   "metadata": {},
   "outputs": [
    {
     "name": "stdout",
     "output_type": "stream",
     "text": [
      "Mama kezia has a daughter called kezia\n",
      "kezia\n",
      "Yes\n",
      "2\n"
     ]
    }
   ],
   "source": [
    "s = input().split(\" \")\n",
    "a = input()\n",
    "\n",
    "if a in s:\n",
    "    print (\"Yes\")\n",
    "    print(s.count(a))\n",
    "else:\n",
    "    print(\"No\")\n",
    "    "
   ]
  },
  {
   "cell_type": "code",
   "execution_count": 84,
   "id": "ea11b379",
   "metadata": {},
   "outputs": [
    {
     "name": "stdout",
     "output_type": "stream",
     "text": [
      "Is it raining:[True - 1/False - 0] 0\n",
      "Has Netflix subscription been paid:[True - 1/False - 0] 1\n",
      "Is there electricity:[True - 1/False - 0] 1\n",
      "We can watch a movie\n"
     ]
    }
   ],
   "source": [
    "# elif\n",
    "\n",
    "raining =  bool(int(input(\"Is it raining:[True - 1/False - 0] \")))\n",
    "Netflix_paid = bool(int(input(\"Has Netflix subscription been paid:[True - 1/False - 0] \")))\n",
    "Elec_on = bool(int(input(\"Is there electricity:[True - 1/False - 0] \")))\n",
    "\n",
    "if raining and Netflix_paid:\n",
    "    print(\"We should go sleep can not watch movie when raining\")\n",
    "elif Elec_on and Netflix_paid:\n",
    "    print(\"We can watch a movie\")\n",
    "elif Elec_on and raining:\n",
    "    print(\"The rain is noisy, we go to sleep\")\n",
    "else:\n",
    "    print(\"Lets just talk to each other\")"
   ]
  },
  {
   "cell_type": "code",
   "execution_count": 29,
   "id": "6f7dfec0",
   "metadata": {},
   "outputs": [
    {
     "name": "stdout",
     "output_type": "stream",
     "text": [
      "year 0\n",
      "Number of children is 1: cut_off: 3\n",
      "This number is okay\n",
      "------\n",
      "year 1\n",
      "Number of children is 2: cut_off: 3\n",
      "This number is okay\n",
      "------\n",
      "year 2\n",
      "Number of children is 3: cut_off: 3\n",
      "This number is okay\n",
      "------\n",
      "Weeehh economy is bad, no more kids for me\n"
     ]
    }
   ],
   "source": [
    "no_kids = [1,2,3,4,5,6,7]\n",
    "cut_off = 3\n",
    "year = 0\n",
    "\n",
    "while no_kids[year] <= cut_off:\n",
    "    print(f\"year {year}\")\n",
    "    print(f\"Number of children is {no_kids[year]}: cut_off: {cut_off}\")\n",
    "    print(\"This number is okay\")\n",
    "    year = year + 1\n",
    "    print(\"------\")\n",
    "else:\n",
    "    print(\"Weeehh economy is bad, no more kids for me\")\n"
   ]
  },
  {
   "cell_type": "code",
   "execution_count": 65,
   "id": "1df5f1b0",
   "metadata": {},
   "outputs": [
    {
     "name": "stdout",
     "output_type": "stream",
     "text": [
      "1\n",
      "3\n",
      "5\n",
      "7\n",
      "9\n",
      "11\n",
      "13\n",
      "15\n",
      "17\n",
      "19\n"
     ]
    }
   ],
   "source": [
    "for k in range(1,20):\n",
    "    if k % 2 == 0:\n",
    "        continue\n",
    "    print(k)"
   ]
  },
  {
   "cell_type": "code",
   "execution_count": 55,
   "id": "047f4f53",
   "metadata": {},
   "outputs": [
    {
     "name": "stdout",
     "output_type": "stream",
     "text": [
      "Nathan\n",
      "Joy\n"
     ]
    }
   ],
   "source": [
    "children = [\"Nathan\", \"Joy\", \"Ella\", \"Latifah\",\"Taji\"]\n",
    "for name in children:\n",
    "    if name == \"Ella\":\n",
    "     break\n",
    "    print(name)"
   ]
  },
  {
   "cell_type": "code",
   "execution_count": 64,
   "id": "0e1de1a5",
   "metadata": {},
   "outputs": [
    {
     "data": {
      "text/plain": [
       "True"
      ]
     },
     "execution_count": 64,
     "metadata": {},
     "output_type": "execute_result"
    }
   ],
   "source": [
    "8%2==0"
   ]
  },
  {
   "cell_type": "code",
   "execution_count": 73,
   "id": "daae1565",
   "metadata": {},
   "outputs": [
    {
     "name": "stdout",
     "output_type": "stream",
     "text": [
      "525 is the largest number.\n"
     ]
    }
   ],
   "source": [
    "numbers = [12, 75, 150, 180, 145, 525, 50]\n",
    "for n in numbers:\n",
    "    if n == max(numbers):\n",
    "      print(f\"{n} is the largest number.\")"
   ]
  },
  {
   "cell_type": "code",
   "execution_count": 74,
   "id": "66031332",
   "metadata": {},
   "outputs": [
    {
     "name": "stdout",
     "output_type": "stream",
     "text": [
      "2\n",
      "4\n",
      "6\n",
      "8\n",
      "10\n"
     ]
    }
   ],
   "source": [
    "for e in range(1,12):\n",
    "    if e % 2 == 0:\n",
    "        print(e)"
   ]
  },
  {
   "cell_type": "code",
   "execution_count": 78,
   "id": "d2c47dab",
   "metadata": {},
   "outputs": [
    {
     "name": "stdout",
     "output_type": "stream",
     "text": [
      "Enter number: 1\n"
     ]
    }
   ],
   "source": [
    "n = int(input(\"Enter number: \"))\n",
    "sum = 0\n",
    "for n in range(n,n+1):\n",
    "    sum = n + (n+1)\n",
    "    if sum == 55:\n",
    "        break"
   ]
  },
  {
   "cell_type": "code",
   "execution_count": 79,
   "id": "821d7f82",
   "metadata": {},
   "outputs": [
    {
     "name": "stdout",
     "output_type": "stream",
     "text": [
      "8\n",
      "7\n"
     ]
    }
   ],
   "source": [
    "a = 7\n",
    "b = 8\n",
    "\n",
    "a,b = b,a\n",
    "\n",
    "print(a)\n",
    "print(b)"
   ]
  },
  {
   "cell_type": "code",
   "execution_count": 82,
   "id": "40fea56f",
   "metadata": {},
   "outputs": [
    {
     "name": "stdout",
     "output_type": "stream",
     "text": [
      "k\n",
      "e\n",
      "z\n",
      "i\n",
      "a\n"
     ]
    }
   ],
   "source": [
    "for k in \"kezia\":\n",
    "    print(k)"
   ]
  },
  {
   "cell_type": "code",
   "execution_count": 84,
   "id": "7d625e49",
   "metadata": {},
   "outputs": [
    {
     "name": "stdout",
     "output_type": "stream",
     "text": [
      "<class 'int'>\n",
      "<class 'str'>\n",
      "<class 'complex'>\n",
      "<class 'float'>\n",
      "<class 'str'>\n",
      "<class 'int'>\n"
     ]
    }
   ],
   "source": [
    "l = [5,\"k\",2+7j,8.0,\"why\",9]\n",
    "for i in l:\n",
    "    print(type(i))"
   ]
  },
  {
   "cell_type": "code",
   "execution_count": 29,
   "id": "31626970",
   "metadata": {},
   "outputs": [
    {
     "name": "stdout",
     "output_type": "stream",
     "text": [
      "2\n",
      "45\n",
      "78\n",
      "12\n",
      "3\n",
      "5\n",
      "7\n",
      "9\n"
     ]
    }
   ],
   "source": [
    "l = [2,45,78,12,\"sudh\", 2+8j, [3,5,7,9]]\n",
    "for i in l:\n",
    "    if type(i) == int:\n",
    "        print(i)\n",
    "    elif type(i) == list:\n",
    "        for j in i:\n",
    "            if type(j) == int:\n",
    "                print(j)"
   ]
  },
  {
   "cell_type": "code",
   "execution_count": 5,
   "id": "14a5ee53",
   "metadata": {},
   "outputs": [
    {
     "name": "stdout",
     "output_type": "stream",
     "text": [
      "k\n",
      "e\n",
      "z\n",
      "i\n",
      "a\n"
     ]
    }
   ],
   "source": [
    "for i in \"kezia\":\n",
    "    print(i)"
   ]
  },
  {
   "cell_type": "code",
   "execution_count": 12,
   "id": "22f1e7ce",
   "metadata": {},
   "outputs": [
    {
     "name": "stdout",
     "output_type": "stream",
     "text": [
      "index of 0 for element 2\n",
      "index of 1 for element 45\n",
      "index of 2 for element 78\n",
      "index of 3 for element 12\n",
      "index of 4 for element sudh\n",
      "index of 5 for element (2+8j)\n",
      "index of 6 for element [3, 5, 7, 9]\n"
     ]
    }
   ],
   "source": [
    "# Method 1\n",
    "l = [2,45,78,12,\"sudh\", 2+8j, [3,5,7,9]]\n",
    "for i in range(len(l)):\n",
    "    print(f\"index of {i} for element {l[i]}\")"
   ]
  },
  {
   "cell_type": "code",
   "execution_count": 46,
   "id": "6405afe7",
   "metadata": {},
   "outputs": [
    {
     "name": "stdout",
     "output_type": "stream",
     "text": [
      "[2, 45, 78, 12, 'sudh', 'kezia', (2+8j), [3, 5, 7, 9]]\n"
     ]
    },
    {
     "data": {
      "text/plain": [
       "range(0, 7)"
      ]
     },
     "execution_count": 46,
     "metadata": {},
     "output_type": "execute_result"
    }
   ],
   "source": [
    "print(l)\n",
    "range(7)"
   ]
  },
  {
   "cell_type": "code",
   "execution_count": 13,
   "id": "a0f0616e",
   "metadata": {},
   "outputs": [
    {
     "name": "stdout",
     "output_type": "stream",
     "text": [
      "(0, 2)\n",
      "(1, 45)\n",
      "(2, 78)\n",
      "(3, 12)\n",
      "(4, 'sudh')\n",
      "(5, (2+8j))\n",
      "(6, [3, 5, 7, 9])\n"
     ]
    }
   ],
   "source": [
    "#Method 2\n",
    "#enumarate function is a tuple \n",
    "l = [2,45,78,12,\"sudh\", 2+8j, [3,5,7,9]]\n",
    "for i in enumerate(l):\n",
    "    print(i)"
   ]
  },
  {
   "cell_type": "code",
   "execution_count": 14,
   "id": "cee5c06f",
   "metadata": {},
   "outputs": [
    {
     "name": "stdout",
     "output_type": "stream",
     "text": [
      "0 2\n",
      "1 45\n",
      "2 78\n",
      "3 12\n",
      "4 sudh\n",
      "5 (2+8j)\n",
      "6 [3, 5, 7, 9]\n"
     ]
    }
   ],
   "source": [
    "#Method 2.1\n",
    "for i,j in enumerate(l):\n",
    "    print(i,j)"
   ]
  },
  {
   "cell_type": "code",
   "execution_count": 43,
   "id": "1878e285",
   "metadata": {},
   "outputs": [
    {
     "data": {
      "text/plain": [
       "['s', 'u', 'd', 'h', 'k', 'e', 'z', 'i', 'a']"
      ]
     },
     "execution_count": 43,
     "metadata": {},
     "output_type": "execute_result"
    }
   ],
   "source": [
    "# Find a char which is string and make a list of the char.\n",
    "l = [2,45,78,12,\"sudh\",\"kezia\", 2+8j, [3,5,7,9]]\n",
    "l1 = []\n",
    "for i in l:\n",
    "    if type(i) == str:\n",
    "        for j in i:\n",
    "            l1.append(j)\n",
    "       \n",
    "l1"
   ]
  },
  {
   "cell_type": "code",
   "execution_count": 59,
   "id": "009d0bfd",
   "metadata": {},
   "outputs": [
    {
     "data": {
      "text/plain": [
       "['sudh', 'kezia', 3, 5, 7, 9]"
      ]
     },
     "execution_count": 59,
     "metadata": {},
     "output_type": "execute_result"
    }
   ],
   "source": [
    "l = [2,45,78,12,\"sudh\",\"kezia\", 2+8j, [3,5,7,9]]\n",
    "l1 = []\n",
    "for i in l:\n",
    "    if type(i) == str:\n",
    "        l1.append(i)\n",
    "    if type(i) == list:\n",
    "        for j in i:\n",
    "            l1.append(j)\n",
    "l1"
   ]
  },
  {
   "cell_type": "code",
   "execution_count": 73,
   "id": "0dd25dd3",
   "metadata": {},
   "outputs": [
    {
     "name": "stdout",
     "output_type": "stream",
     "text": [
      "1\n",
      "2\n",
      "3\n"
     ]
    }
   ],
   "source": [
    "a = [1,2,3,4]\n",
    "for i in a:\n",
    "    if i != 4:\n",
    "        print(i)\n"
   ]
  },
  {
   "cell_type": "code",
   "execution_count": 74,
   "id": "a50af633",
   "metadata": {},
   "outputs": [],
   "source": [
    "for i in \"kmwersa\":\n",
    "    if i == \"m\":\n",
    "        break\n",
    "     \n",
    "else:\n",
    "    print(\"go home\")"
   ]
  },
  {
   "cell_type": "code",
   "execution_count": 78,
   "id": "08169ed2",
   "metadata": {},
   "outputs": [
    {
     "name": "stdout",
     "output_type": "stream",
     "text": [
      "2\n",
      "3\n",
      "4\n",
      "5\n",
      "6\n",
      "7\n"
     ]
    }
   ],
   "source": [
    "a=2\n",
    "while a<10:\n",
    "    print(a)\n",
    "    if a ==7:\n",
    "        break\n",
    "    a = a+1"
   ]
  },
  {
   "cell_type": "code",
   "execution_count": 79,
   "id": "7bf452c5",
   "metadata": {},
   "outputs": [],
   "source": [
    "while a < 6:\n",
    "    pass"
   ]
  },
  {
   "cell_type": "code",
   "execution_count": 81,
   "id": "77b9aa19",
   "metadata": {},
   "outputs": [],
   "source": [
    "while a < 4:\n",
    "    break"
   ]
  },
  {
   "cell_type": "code",
   "execution_count": 83,
   "id": "f3f213e7",
   "metadata": {},
   "outputs": [
    {
     "ename": "KeyboardInterrupt",
     "evalue": "",
     "output_type": "error",
     "traceback": [
      "\u001b[1;31m---------------------------------------------------------------------------\u001b[0m",
      "\u001b[1;31mKeyboardInterrupt\u001b[0m                         Traceback (most recent call last)",
      "\u001b[1;32m~\\AppData\\Local\\Temp\\ipykernel_18236\\370071427.py\u001b[0m in \u001b[0;36m<module>\u001b[1;34m\u001b[0m\n\u001b[0;32m      1\u001b[0m \u001b[0ma\u001b[0m \u001b[1;33m=\u001b[0m \u001b[1;36m1\u001b[0m\u001b[1;33m\u001b[0m\u001b[1;33m\u001b[0m\u001b[0m\n\u001b[0;32m      2\u001b[0m \u001b[1;32mwhile\u001b[0m \u001b[0ma\u001b[0m \u001b[1;33m<\u001b[0m \u001b[1;36m4\u001b[0m\u001b[1;33m:\u001b[0m\u001b[1;33m\u001b[0m\u001b[1;33m\u001b[0m\u001b[0m\n\u001b[1;32m----> 3\u001b[1;33m     \u001b[1;32mcontinue\u001b[0m\u001b[1;33m\u001b[0m\u001b[1;33m\u001b[0m\u001b[0m\n\u001b[0m",
      "\u001b[1;31mKeyboardInterrupt\u001b[0m: "
     ]
    }
   ],
   "source": [
    "a = 1\n",
    "while a < 4:\n",
    "    continue"
   ]
  },
  {
   "cell_type": "code",
   "execution_count": 88,
   "id": "b304d6e0",
   "metadata": {},
   "outputs": [
    {
     "name": "stdout",
     "output_type": "stream",
     "text": [
      "\n",
      "*\n",
      "**\n",
      "***\n",
      "****\n",
      "*****\n",
      "******\n",
      "*******\n",
      "********\n",
      "*********\n",
      "**********\n",
      "***********\n",
      "************\n",
      "*************\n",
      "**************\n",
      "***************\n",
      "****************\n",
      "*****************\n",
      "******************\n",
      "*******************\n"
     ]
    }
   ],
   "source": [
    "for i in range(0,20):\n",
    "    print(i*\"*\")"
   ]
  },
  {
   "cell_type": "code",
   "execution_count": 96,
   "id": "3b182100",
   "metadata": {},
   "outputs": [
    {
     "data": {
      "text/plain": [
       "[3, 4, 5, 6, 7, 8, 9]"
      ]
     },
     "execution_count": 96,
     "metadata": {},
     "output_type": "execute_result"
    }
   ],
   "source": [
    "list(range(3,10,1))"
   ]
  },
  {
   "cell_type": "code",
   "execution_count": 94,
   "id": "defcdd33",
   "metadata": {},
   "outputs": [
    {
     "data": {
      "text/plain": [
       "[3, 7]"
      ]
     },
     "execution_count": 94,
     "metadata": {},
     "output_type": "execute_result"
    }
   ],
   "source": [
    "list(range(3,10,4))"
   ]
  },
  {
   "cell_type": "code",
   "execution_count": 95,
   "id": "05cf0611",
   "metadata": {},
   "outputs": [
    {
     "data": {
      "text/plain": [
       "[10, 9, 8, 7]"
      ]
     },
     "execution_count": 95,
     "metadata": {},
     "output_type": "execute_result"
    }
   ],
   "source": [
    "list(range(10,6,-1))"
   ]
  },
  {
   "cell_type": "code",
   "execution_count": 97,
   "id": "2dac8d52",
   "metadata": {},
   "outputs": [
    {
     "data": {
      "text/plain": [
       "[10, 8, 6, 4, 2, 0, -2, -4]"
      ]
     },
     "execution_count": 97,
     "metadata": {},
     "output_type": "execute_result"
    }
   ],
   "source": [
    "list(range(10,-5,-2))"
   ]
  },
  {
   "cell_type": "code",
   "execution_count": 98,
   "id": "55685e2e",
   "metadata": {},
   "outputs": [
    {
     "data": {
      "text/plain": [
       "range(0, 9)"
      ]
     },
     "execution_count": 98,
     "metadata": {},
     "output_type": "execute_result"
    }
   ],
   "source": [
    "range(9)"
   ]
  },
  {
   "cell_type": "code",
   "execution_count": 99,
   "id": "3b072246",
   "metadata": {},
   "outputs": [
    {
     "name": "stdout",
     "output_type": "stream",
     "text": [
      "0\n",
      "1\n",
      "2\n",
      "3\n",
      "4\n",
      "5\n",
      "6\n",
      "7\n",
      "8\n"
     ]
    }
   ],
   "source": [
    "for i in range(9):\n",
    "    print(i)"
   ]
  },
  {
   "cell_type": "code",
   "execution_count": 106,
   "id": "fb390067",
   "metadata": {},
   "outputs": [
    {
     "name": "stdout",
     "output_type": "stream",
     "text": [
      "Kezia\r\n",
      "KeziaKezia\r\n",
      "KeziaKeziaKezia\r\n",
      "KeziaKeziaKeziaKezia\r\n",
      "KeziaKeziaKeziaKeziaKezia\r\n"
     ]
    }
   ],
   "source": [
    "n = 5\n",
    "for i in range(0,n):\n",
    "    for j in range(0,i+1):\n",
    "        print(\"Kezia\", end = \"\")\n",
    "    print(\"\\r\")"
   ]
  },
  {
   "cell_type": "code",
   "execution_count": 3,
   "id": "46f049d8",
   "metadata": {},
   "outputs": [
    {
     "name": "stdout",
     "output_type": "stream",
     "text": [
      "kezia\n",
      "Avedikezia\n",
      "AvediAvedikezia\n",
      "AvediAvediAvedikezia\n",
      "AvediAvediAvediAvedikezia\n",
      "AvediAvediAvediAvediAvedi"
     ]
    }
   ],
   "source": [
    "n = 5\n",
    "for i in range(0,n):\n",
    "    print(\"kezia\")\n",
    "    for j in range(0,i+1):\n",
    "        print(\"Avedi\",end = \"\")\n",
    "        "
   ]
  },
  {
   "cell_type": "code",
   "execution_count": 4,
   "id": "ff0d5852",
   "metadata": {},
   "outputs": [
    {
     "name": "stdout",
     "output_type": "stream",
     "text": [
      "kezia\n",
      "kezia\n",
      "kezia\n",
      "kezia\n",
      "kezia\n"
     ]
    }
   ],
   "source": [
    "n = 5\n",
    "for i in range(0,n):\n",
    "    print(\"kezia\")"
   ]
  },
  {
   "cell_type": "code",
   "execution_count": 5,
   "id": "07786c75",
   "metadata": {},
   "outputs": [
    {
     "name": "stdout",
     "output_type": "stream",
     "text": [
      "AvediAvediAvediAvediAvedi"
     ]
    }
   ],
   "source": [
    "for j in range(0,i+1):\n",
    "        print(\"Avedi\",end = \"\")"
   ]
  },
  {
   "cell_type": "code",
   "execution_count": 16,
   "id": "6c1275f8",
   "metadata": {},
   "outputs": [
    {
     "name": "stdout",
     "output_type": "stream",
     "text": [
      "9\n",
      "10\n",
      "35\n",
      "7\n",
      "79\n",
      "10\n",
      "11\n"
     ]
    }
   ],
   "source": [
    "y = [3,8,9,34,6,78,9,10]\n",
    "for i in y:\n",
    "    i= i+1\n",
    "    if i>5:\n",
    "        print(i)\n",
    "\n",
    "   "
   ]
  },
  {
   "cell_type": "code",
   "execution_count": 21,
   "id": "6d11fbc7",
   "metadata": {},
   "outputs": [
    {
     "data": {
      "text/plain": [
       "(10, 9, 78, 6, 34, 9, 8, 3)"
      ]
     },
     "execution_count": 21,
     "metadata": {},
     "output_type": "execute_result"
    }
   ],
   "source": [
    "y = (3,8,9,34,6,78,9,10)\n",
    "y[::-1]\n",
    "\n"
   ]
  },
  {
   "cell_type": "code",
   "execution_count": 36,
   "id": "7c087369",
   "metadata": {},
   "outputs": [
    {
     "data": {
      "text/plain": [
       "[7, 6, 5, 4, 3, 2, 1, 0]"
      ]
     },
     "execution_count": 36,
     "metadata": {},
     "output_type": "execute_result"
    }
   ],
   "source": [
    "list(range(len(y)-1,-1,-1))"
   ]
  },
  {
   "cell_type": "code",
   "execution_count": 39,
   "id": "03e1f474",
   "metadata": {},
   "outputs": [
    {
     "name": "stdout",
     "output_type": "stream",
     "text": [
      "10\n",
      "9\n",
      "78\n",
      "6\n",
      "34\n",
      "9\n",
      "8\n",
      "3\n"
     ]
    }
   ],
   "source": [
    "y =(3,8,9,34,6,78,9,10) \n",
    "for i in range(len(y)-1,-1,-1):\n",
    "    print(y[i])\n",
    "    "
   ]
  },
  {
   "cell_type": "code",
   "execution_count": 42,
   "id": "59d5426d",
   "metadata": {},
   "outputs": [
    {
     "name": "stdout",
     "output_type": "stream",
     "text": [
      "a KEZIA\n",
      "b [1, 5, 8, 2]\n",
      "c (45, 25.2, 8, 9, 10)\n",
      "d herbert\n"
     ]
    }
   ],
   "source": [
    "#dictionary a,b,c,d are keys with values inside\n",
    "\n",
    "d = {\"a\": \"KEZIA\" , \"b\" : [1,5,8,2], \"c\" : (45,25.2,8,9,10), \"d\":\"herbert\"}\n",
    "for i in d:\n",
    "    print (i, d[i])"
   ]
  },
  {
   "cell_type": "code",
   "execution_count": 43,
   "id": "6051bc85",
   "metadata": {},
   "outputs": [
    {
     "data": {
      "text/plain": [
       "dict_items([('a', 'KEZIA'), ('b', [1, 5, 8, 2]), ('c', (45, 25.2, 8, 9, 10)), ('d', 'herbert')])"
      ]
     },
     "execution_count": 43,
     "metadata": {},
     "output_type": "execute_result"
    }
   ],
   "source": [
    "d.items()"
   ]
  },
  {
   "cell_type": "code",
   "execution_count": 45,
   "id": "411cb611",
   "metadata": {},
   "outputs": [
    {
     "name": "stdout",
     "output_type": "stream",
     "text": [
      "('a', 'KEZIA')\n",
      "('b', [1, 5, 8, 2])\n",
      "('c', (45, 25.2, 8, 9, 10))\n",
      "('d', 'herbert')\n"
     ]
    }
   ],
   "source": [
    "for i in d.items():\n",
    "    print(i)"
   ]
  },
  {
   "cell_type": "code",
   "execution_count": 47,
   "id": "a6d947a7",
   "metadata": {},
   "outputs": [],
   "source": [
    "#set it selects the unique values and sorts them in ascending order\n",
    "\n",
    "s = {\"k\",\"e\",\"z\",\"u\",\"i\",\"o\",\"e\",\"w\",\"u\",\"g\",\"o\",\"g\"}"
   ]
  },
  {
   "cell_type": "code",
   "execution_count": 48,
   "id": "00318019",
   "metadata": {},
   "outputs": [
    {
     "data": {
      "text/plain": [
       "{'e', 'g', 'i', 'k', 'o', 'u', 'w', 'z'}"
      ]
     },
     "execution_count": 48,
     "metadata": {},
     "output_type": "execute_result"
    }
   ],
   "source": [
    "s"
   ]
  },
  {
   "cell_type": "code",
   "execution_count": 49,
   "id": "0868f47d",
   "metadata": {},
   "outputs": [],
   "source": [
    "f = {4,56,88,966,1412,777,25,4,56,88,666,125,88}"
   ]
  },
  {
   "cell_type": "code",
   "execution_count": 50,
   "id": "84251ee1",
   "metadata": {},
   "outputs": [
    {
     "data": {
      "text/plain": [
       "{4, 25, 56, 88, 125, 666, 777, 966, 1412}"
      ]
     },
     "execution_count": 50,
     "metadata": {},
     "output_type": "execute_result"
    }
   ],
   "source": [
    "f"
   ]
  },
  {
   "cell_type": "code",
   "execution_count": 51,
   "id": "f150f6fd",
   "metadata": {},
   "outputs": [
    {
     "name": "stdout",
     "output_type": "stream",
     "text": [
      "1412\n",
      "4\n",
      "966\n",
      "777\n",
      "56\n",
      "25\n",
      "666\n",
      "88\n",
      "125\n"
     ]
    }
   ],
   "source": [
    "for i in f:\n",
    "    print(i)"
   ]
  },
  {
   "cell_type": "code",
   "execution_count": 52,
   "id": "7f13d8d0",
   "metadata": {},
   "outputs": [
    {
     "name": "stdout",
     "output_type": "stream",
     "text": [
      "w\n",
      "u\n",
      "k\n",
      "o\n",
      "g\n",
      "i\n",
      "e\n",
      "z\n"
     ]
    }
   ],
   "source": [
    "# produces un ordered set\n",
    "for i in s:\n",
    "    print (i)"
   ]
  },
  {
   "cell_type": "code",
   "execution_count": 77,
   "id": "9d7d0e20",
   "metadata": {},
   "outputs": [
    {
     "name": "stdout",
     "output_type": "stream",
     "text": [
      "0\n",
      "1\n",
      "2\n",
      "3\n",
      "4\n"
     ]
    }
   ],
   "source": [
    "for i in range(8):\n",
    "    print(i)\n",
    "    if i == 4:\n",
    "        break\n",
    "    \n",
    "        "
   ]
  },
  {
   "cell_type": "code",
   "execution_count": 75,
   "id": "c3356745",
   "metadata": {},
   "outputs": [
    {
     "data": {
      "text/plain": [
       "range(0, 8)"
      ]
     },
     "execution_count": 75,
     "metadata": {},
     "output_type": "execute_result"
    }
   ],
   "source": [
    "range(8)"
   ]
  },
  {
   "cell_type": "code",
   "execution_count": null,
   "id": "6a4a750a",
   "metadata": {},
   "outputs": [],
   "source": []
  }
 ],
 "metadata": {
  "kernelspec": {
   "display_name": "Python 3 (ipykernel)",
   "language": "python",
   "name": "python3"
  },
  "language_info": {
   "codemirror_mode": {
    "name": "ipython",
    "version": 3
   },
   "file_extension": ".py",
   "mimetype": "text/x-python",
   "name": "python",
   "nbconvert_exporter": "python",
   "pygments_lexer": "ipython3",
   "version": "3.9.13"
  }
 },
 "nbformat": 4,
 "nbformat_minor": 5
}
